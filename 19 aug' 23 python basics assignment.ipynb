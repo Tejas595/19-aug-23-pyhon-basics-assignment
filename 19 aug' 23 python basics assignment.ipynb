{
 "cells": [
  {
   "cell_type": "markdown",
   "id": "6a1743ea-a554-4d12-9541-8bcf05ed0861",
   "metadata": {},
   "source": [
    "#Assignment-1\n",
    "# Topic :Python basic variable"
   ]
  },
  {
   "cell_type": "code",
   "execution_count": null,
   "id": "7e64b428-64f0-4233-840c-3f6cda78e91d",
   "metadata": {},
   "outputs": [],
   "source": [
    "#Ques 1\n",
    "x=10\n",
    "y=20\n",
    "x,y=y,x\n",
    "print(x,y)\n"
   ]
  },
  {
   "cell_type": "code",
   "execution_count": null,
   "id": "1db2b2df-f69f-4aa1-9acb-c25fe146a672",
   "metadata": {},
   "outputs": [],
   "source": [
    "#Ques 2\n",
    "a=int(input(\"enter the length of rectangle \"))\n",
    "b=int(input(\"enter the width of rectangle \"))\n",
    "print(\"The area of rectangle is\",a*b)"
   ]
  },
  {
   "cell_type": "code",
   "execution_count": null,
   "id": "e59e5086-e0e8-46e8-881c-52cd37873d5f",
   "metadata": {},
   "outputs": [],
   "source": [
    "#Ques 3\n",
    "c=float(input(\"enter the temperature in celsius  \"))\n",
    "print(\"the temperature in fahrenheit is\",c*9/5+32)"
   ]
  },
  {
   "cell_type": "code",
   "execution_count": null,
   "id": "613d8a63-8c3a-46a4-a712-5f96f731fcc3",
   "metadata": {},
   "outputs": [],
   "source": [
    "# Topic : String based questions"
   ]
  },
  {
   "cell_type": "code",
   "execution_count": null,
   "id": "02ac0327-f101-4c80-9371-27fc1c002d2a",
   "metadata": {},
   "outputs": [],
   "source": [
    "#Ques 1\n",
    "x=input(\"enter the string \")\n",
    "print(\"the length of string is \",len(x))"
   ]
  },
  {
   "cell_type": "code",
   "execution_count": null,
   "id": "4f4bf515-6a11-40cf-8e74-63537180addd",
   "metadata": {},
   "outputs": [],
   "source": [
    "#Ques 2\n",
    "p=input(\"enter the sentence \")\n",
    "d=p.lower()\n",
    "t=d.count(\"a\")\n",
    "e=d.count(\"e\")\n",
    "j=d.count(\"i\")\n",
    "a=d.count(\"o\")\n",
    "s=d.count(\"u\")\n",
    "vowel=t+e+j+a+s\n",
    "print(\"The vowels in the sentence are \",vowel)"
   ]
  },
  {
   "cell_type": "code",
   "execution_count": null,
   "id": "b1d0076e-ae31-4b5d-bef7-4dc07b27b814",
   "metadata": {},
   "outputs": [],
   "source": [
    "#Ques 3\n",
    "s=\"I am groot\"\n",
    "print (s[::-1])"
   ]
  },
  {
   "cell_type": "code",
   "execution_count": null,
   "id": "eae83207-53e5-4235-8c2a-828ea4b80acd",
   "metadata": {},
   "outputs": [],
   "source": [
    "#Ques 4\n",
    "x=input(\"enter the string \")\n",
    "y=x[::-1]\n",
    "print(\"The string is palindrome is\",x==y)"
   ]
  },
  {
   "cell_type": "code",
   "execution_count": null,
   "id": "316e41cd-1011-4aa3-922c-7360d95f7294",
   "metadata": {},
   "outputs": [],
   "source": [
    "#Ques 5\n",
    "x=input(\"enter the string \")\n",
    "print(x.replace(\" \",\"\"))"
   ]
  }
 ],
 "metadata": {
  "kernelspec": {
   "display_name": "Python 3 (ipykernel)",
   "language": "python",
   "name": "python3"
  },
  "language_info": {
   "codemirror_mode": {
    "name": "ipython",
    "version": 3
   },
   "file_extension": ".py",
   "mimetype": "text/x-python",
   "name": "python",
   "nbconvert_exporter": "python",
   "pygments_lexer": "ipython3",
   "version": "3.10.8"
  }
 },
 "nbformat": 4,
 "nbformat_minor": 5
}
